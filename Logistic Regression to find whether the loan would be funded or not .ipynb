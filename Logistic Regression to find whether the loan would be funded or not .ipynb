{
 "cells": [
  {
   "cell_type": "code",
   "execution_count": 1,
   "id": "826005d0",
   "metadata": {},
   "outputs": [],
   "source": [
    "import pandas as pd\n",
    "import numpy as np"
   ]
  },
  {
   "cell_type": "code",
   "execution_count": 2,
   "id": "eece714a",
   "metadata": {},
   "outputs": [],
   "source": [
    "df=pd.read_csv(\"lendingdata.csv\")"
   ]
  },
  {
   "cell_type": "code",
   "execution_count": 3,
   "id": "80389656",
   "metadata": {},
   "outputs": [
    {
     "data": {
      "text/html": [
       "<div>\n",
       "<style scoped>\n",
       "    .dataframe tbody tr th:only-of-type {\n",
       "        vertical-align: middle;\n",
       "    }\n",
       "\n",
       "    .dataframe tbody tr th {\n",
       "        vertical-align: top;\n",
       "    }\n",
       "\n",
       "    .dataframe thead th {\n",
       "        text-align: right;\n",
       "    }\n",
       "</style>\n",
       "<table border=\"1\" class=\"dataframe\">\n",
       "  <thead>\n",
       "    <tr style=\"text-align: right;\">\n",
       "      <th></th>\n",
       "      <th>Unnamed: 0</th>\n",
       "      <th>activity</th>\n",
       "      <th>borrower_genders</th>\n",
       "      <th>country</th>\n",
       "      <th>country_code</th>\n",
       "      <th>currency_policy</th>\n",
       "      <th>distribution_model</th>\n",
       "      <th>lender_count</th>\n",
       "      <th>loan_amount</th>\n",
       "      <th>original_language</th>\n",
       "      <th>repayment_interval</th>\n",
       "      <th>sector</th>\n",
       "      <th>status</th>\n",
       "      <th>term_in_months</th>\n",
       "      <th>rMPI</th>\n",
       "    </tr>\n",
       "  </thead>\n",
       "  <tbody>\n",
       "    <tr>\n",
       "      <th>0</th>\n",
       "      <td>0</td>\n",
       "      <td>Home Appliances</td>\n",
       "      <td>group</td>\n",
       "      <td>Cambodia</td>\n",
       "      <td>KH</td>\n",
       "      <td>shared</td>\n",
       "      <td>field_partner</td>\n",
       "      <td>5.0</td>\n",
       "      <td>125.0</td>\n",
       "      <td>English</td>\n",
       "      <td>monthly</td>\n",
       "      <td>Personal Use</td>\n",
       "      <td>funded</td>\n",
       "      <td>8</td>\n",
       "      <td>0.097</td>\n",
       "    </tr>\n",
       "    <tr>\n",
       "      <th>1</th>\n",
       "      <td>1</td>\n",
       "      <td>Cereals</td>\n",
       "      <td>female</td>\n",
       "      <td>Philippines</td>\n",
       "      <td>PH</td>\n",
       "      <td>shared</td>\n",
       "      <td>field_partner</td>\n",
       "      <td>5.0</td>\n",
       "      <td>125.0</td>\n",
       "      <td>English</td>\n",
       "      <td>irregular</td>\n",
       "      <td>Food</td>\n",
       "      <td>funded</td>\n",
       "      <td>14</td>\n",
       "      <td>0.055</td>\n",
       "    </tr>\n",
       "    <tr>\n",
       "      <th>2</th>\n",
       "      <td>2</td>\n",
       "      <td>Clothing Sales</td>\n",
       "      <td>female</td>\n",
       "      <td>Peru</td>\n",
       "      <td>PE</td>\n",
       "      <td>shared</td>\n",
       "      <td>field_partner</td>\n",
       "      <td>10.0</td>\n",
       "      <td>375.0</td>\n",
       "      <td>Spanish</td>\n",
       "      <td>monthly</td>\n",
       "      <td>Clothing</td>\n",
       "      <td>funded</td>\n",
       "      <td>8</td>\n",
       "      <td>0.000</td>\n",
       "    </tr>\n",
       "    <tr>\n",
       "      <th>3</th>\n",
       "      <td>3</td>\n",
       "      <td>Clothing Sales</td>\n",
       "      <td>female</td>\n",
       "      <td>Tajikistan</td>\n",
       "      <td>TJ</td>\n",
       "      <td>not shared</td>\n",
       "      <td>field_partner</td>\n",
       "      <td>27.0</td>\n",
       "      <td>850.0</td>\n",
       "      <td>English</td>\n",
       "      <td>monthly</td>\n",
       "      <td>Clothing</td>\n",
       "      <td>funded</td>\n",
       "      <td>14</td>\n",
       "      <td>0.021</td>\n",
       "    </tr>\n",
       "    <tr>\n",
       "      <th>4</th>\n",
       "      <td>4</td>\n",
       "      <td>Fish Selling</td>\n",
       "      <td>female</td>\n",
       "      <td>Uganda</td>\n",
       "      <td>UG</td>\n",
       "      <td>not shared</td>\n",
       "      <td>field_partner</td>\n",
       "      <td>17.0</td>\n",
       "      <td>550.0</td>\n",
       "      <td>English</td>\n",
       "      <td>irregular</td>\n",
       "      <td>Food</td>\n",
       "      <td>funded</td>\n",
       "      <td>9</td>\n",
       "      <td>0.417</td>\n",
       "    </tr>\n",
       "    <tr>\n",
       "      <th>...</th>\n",
       "      <td>...</td>\n",
       "      <td>...</td>\n",
       "      <td>...</td>\n",
       "      <td>...</td>\n",
       "      <td>...</td>\n",
       "      <td>...</td>\n",
       "      <td>...</td>\n",
       "      <td>...</td>\n",
       "      <td>...</td>\n",
       "      <td>...</td>\n",
       "      <td>...</td>\n",
       "      <td>...</td>\n",
       "      <td>...</td>\n",
       "      <td>...</td>\n",
       "      <td>...</td>\n",
       "    </tr>\n",
       "    <tr>\n",
       "      <th>27531</th>\n",
       "      <td>27531</td>\n",
       "      <td>Services</td>\n",
       "      <td>female</td>\n",
       "      <td>Zambia</td>\n",
       "      <td>ZM</td>\n",
       "      <td>shared</td>\n",
       "      <td>field_partner</td>\n",
       "      <td>85.0</td>\n",
       "      <td>2300.0</td>\n",
       "      <td>English</td>\n",
       "      <td>bullet</td>\n",
       "      <td>Services</td>\n",
       "      <td>funded</td>\n",
       "      <td>9</td>\n",
       "      <td>0.158</td>\n",
       "    </tr>\n",
       "    <tr>\n",
       "      <th>27532</th>\n",
       "      <td>27532</td>\n",
       "      <td>Pigs</td>\n",
       "      <td>female</td>\n",
       "      <td>Philippines</td>\n",
       "      <td>PH</td>\n",
       "      <td>not shared</td>\n",
       "      <td>field_partner</td>\n",
       "      <td>17.0</td>\n",
       "      <td>475.0</td>\n",
       "      <td>English</td>\n",
       "      <td>irregular</td>\n",
       "      <td>Agriculture</td>\n",
       "      <td>funded</td>\n",
       "      <td>8</td>\n",
       "      <td>0.422</td>\n",
       "    </tr>\n",
       "    <tr>\n",
       "      <th>27533</th>\n",
       "      <td>27533</td>\n",
       "      <td>General Store</td>\n",
       "      <td>female</td>\n",
       "      <td>Philippines</td>\n",
       "      <td>PH</td>\n",
       "      <td>shared</td>\n",
       "      <td>field_partner</td>\n",
       "      <td>38.0</td>\n",
       "      <td>1075.0</td>\n",
       "      <td>English</td>\n",
       "      <td>irregular</td>\n",
       "      <td>Retail</td>\n",
       "      <td>funded</td>\n",
       "      <td>11</td>\n",
       "      <td>0.055</td>\n",
       "    </tr>\n",
       "    <tr>\n",
       "      <th>27534</th>\n",
       "      <td>27534</td>\n",
       "      <td>Food Market</td>\n",
       "      <td>female</td>\n",
       "      <td>Ghana</td>\n",
       "      <td>GH</td>\n",
       "      <td>shared</td>\n",
       "      <td>field_partner</td>\n",
       "      <td>35.0</td>\n",
       "      <td>1075.0</td>\n",
       "      <td>English</td>\n",
       "      <td>irregular</td>\n",
       "      <td>Food</td>\n",
       "      <td>funded</td>\n",
       "      <td>6</td>\n",
       "      <td>0.122</td>\n",
       "    </tr>\n",
       "    <tr>\n",
       "      <th>27535</th>\n",
       "      <td>27535</td>\n",
       "      <td>Farming</td>\n",
       "      <td>male</td>\n",
       "      <td>Tajikistan</td>\n",
       "      <td>TJ</td>\n",
       "      <td>not shared</td>\n",
       "      <td>field_partner</td>\n",
       "      <td>55.0</td>\n",
       "      <td>2000.0</td>\n",
       "      <td>English</td>\n",
       "      <td>monthly</td>\n",
       "      <td>Agriculture</td>\n",
       "      <td>funded</td>\n",
       "      <td>14</td>\n",
       "      <td>0.033</td>\n",
       "    </tr>\n",
       "  </tbody>\n",
       "</table>\n",
       "<p>27536 rows × 15 columns</p>\n",
       "</div>"
      ],
      "text/plain": [
       "       Unnamed: 0         activity borrower_genders      country country_code  \\\n",
       "0               0  Home Appliances            group     Cambodia           KH   \n",
       "1               1          Cereals           female  Philippines           PH   \n",
       "2               2   Clothing Sales           female         Peru           PE   \n",
       "3               3   Clothing Sales           female   Tajikistan           TJ   \n",
       "4               4     Fish Selling           female       Uganda           UG   \n",
       "...           ...              ...              ...          ...          ...   \n",
       "27531       27531         Services           female       Zambia           ZM   \n",
       "27532       27532             Pigs           female  Philippines           PH   \n",
       "27533       27533    General Store           female  Philippines           PH   \n",
       "27534       27534      Food Market           female        Ghana           GH   \n",
       "27535       27535          Farming             male   Tajikistan           TJ   \n",
       "\n",
       "      currency_policy distribution_model  lender_count  loan_amount  \\\n",
       "0              shared      field_partner           5.0        125.0   \n",
       "1              shared      field_partner           5.0        125.0   \n",
       "2              shared      field_partner          10.0        375.0   \n",
       "3          not shared      field_partner          27.0        850.0   \n",
       "4          not shared      field_partner          17.0        550.0   \n",
       "...               ...                ...           ...          ...   \n",
       "27531          shared      field_partner          85.0       2300.0   \n",
       "27532      not shared      field_partner          17.0        475.0   \n",
       "27533          shared      field_partner          38.0       1075.0   \n",
       "27534          shared      field_partner          35.0       1075.0   \n",
       "27535      not shared      field_partner          55.0       2000.0   \n",
       "\n",
       "      original_language repayment_interval        sector  status  \\\n",
       "0               English            monthly  Personal Use  funded   \n",
       "1               English          irregular          Food  funded   \n",
       "2               Spanish            monthly      Clothing  funded   \n",
       "3               English            monthly      Clothing  funded   \n",
       "4               English          irregular          Food  funded   \n",
       "...                 ...                ...           ...     ...   \n",
       "27531           English             bullet      Services  funded   \n",
       "27532           English          irregular   Agriculture  funded   \n",
       "27533           English          irregular        Retail  funded   \n",
       "27534           English          irregular          Food  funded   \n",
       "27535           English            monthly   Agriculture  funded   \n",
       "\n",
       "      term_in_months   rMPI  \n",
       "0                  8  0.097  \n",
       "1                 14  0.055  \n",
       "2                  8  0.000  \n",
       "3                 14  0.021  \n",
       "4                  9  0.417  \n",
       "...              ...    ...  \n",
       "27531              9  0.158  \n",
       "27532              8  0.422  \n",
       "27533             11  0.055  \n",
       "27534              6  0.122  \n",
       "27535             14  0.033  \n",
       "\n",
       "[27536 rows x 15 columns]"
      ]
     },
     "execution_count": 3,
     "metadata": {},
     "output_type": "execute_result"
    }
   ],
   "source": [
    "df"
   ]
  },
  {
   "cell_type": "code",
   "execution_count": 4,
   "id": "da845bfa",
   "metadata": {},
   "outputs": [],
   "source": [
    "df=df.dropna()"
   ]
  },
  {
   "cell_type": "code",
   "execution_count": 5,
   "id": "70b7abb1",
   "metadata": {},
   "outputs": [
    {
     "name": "stderr",
     "output_type": "stream",
     "text": [
      "C:\\ProgramData\\Anaconda3\\lib\\site-packages\\pandas\\core\\indexing.py:1720: SettingWithCopyWarning: \n",
      "A value is trying to be set on a copy of a slice from a DataFrame.\n",
      "Try using .loc[row_indexer,col_indexer] = value instead\n",
      "\n",
      "See the caveats in the documentation: https://pandas.pydata.org/pandas-docs/stable/user_guide/indexing.html#returning-a-view-versus-a-copy\n",
      "  self._setitem_single_column(loc, value, pi)\n"
     ]
    }
   ],
   "source": [
    "df.loc[df.term_in_months == '1 Year',\"term_in_months\"]=12\n",
    "df.loc[df.term_in_months == \"2 Years\",\"term_in_months\"]=24"
   ]
  },
  {
   "cell_type": "code",
   "execution_count": 6,
   "id": "dbf95ce3",
   "metadata": {},
   "outputs": [],
   "source": [
    "from sklearn.model_selection import train_test_split\n",
    "from sklearn.linear_model import LogisticRegression"
   ]
  },
  {
   "cell_type": "code",
   "execution_count": 36,
   "id": "0245dc56",
   "metadata": {},
   "outputs": [
    {
     "name": "stdout",
     "output_type": "stream",
     "text": [
      "['activity', 'borrower_genders', 'country', 'country_code', 'currency_policy', 'distribution_model', 'original_language', 'repayment_interval', 'sector', 'status', 'term_in_months']\n"
     ]
    }
   ],
   "source": [
    "print(df.select_dtypes(object).columns.tolist())"
   ]
  },
  {
   "cell_type": "code",
   "execution_count": 37,
   "id": "72842583",
   "metadata": {},
   "outputs": [],
   "source": [
    "df1=pd.get_dummies(df,columns=['activity', 'borrower_genders', 'country', 'country_code',\n",
    "       'currency_policy', 'distribution_model', 'original_language',\n",
    "       'repayment_interval', 'sector', 'status','term_in_months'])"
   ]
  },
  {
   "cell_type": "code",
   "execution_count": 38,
   "id": "1fef482f",
   "metadata": {},
   "outputs": [],
   "source": [
    "df1[\"status\"]= df[\"status\"]==\"funded\""
   ]
  },
  {
   "cell_type": "code",
   "execution_count": 39,
   "id": "bd474816",
   "metadata": {},
   "outputs": [],
   "source": [
    "x=df1.drop(columns=\"status\")"
   ]
  },
  {
   "cell_type": "code",
   "execution_count": 40,
   "id": "f1ce3a7f",
   "metadata": {},
   "outputs": [],
   "source": [
    "y=df1.status\n",
    "y=y.astype(int)"
   ]
  },
  {
   "cell_type": "code",
   "execution_count": 41,
   "id": "cf0e6224",
   "metadata": {},
   "outputs": [],
   "source": [
    "x_train,x_test,y_train,y_test=train_test_split(x,y,train_size=.70,random_state=10)"
   ]
  },
  {
   "cell_type": "code",
   "execution_count": 42,
   "id": "7d7c4dcd",
   "metadata": {},
   "outputs": [
    {
     "name": "stderr",
     "output_type": "stream",
     "text": [
      "C:\\ProgramData\\Anaconda3\\lib\\site-packages\\sklearn\\linear_model\\_logistic.py:763: ConvergenceWarning: lbfgs failed to converge (status=1):\n",
      "STOP: TOTAL NO. of ITERATIONS REACHED LIMIT.\n",
      "\n",
      "Increase the number of iterations (max_iter) or scale the data as shown in:\n",
      "    https://scikit-learn.org/stable/modules/preprocessing.html\n",
      "Please also refer to the documentation for alternative solver options:\n",
      "    https://scikit-learn.org/stable/modules/linear_model.html#logistic-regression\n",
      "  n_iter_i = _check_optimize_result(\n"
     ]
    }
   ],
   "source": [
    "logit=LogisticRegression().fit(x_train,y_train)"
   ]
  },
  {
   "cell_type": "code",
   "execution_count": 43,
   "id": "e63c1c08",
   "metadata": {},
   "outputs": [],
   "source": [
    "y_pred=logit.predict(x_test)"
   ]
  },
  {
   "cell_type": "code",
   "execution_count": 44,
   "id": "83dbe828",
   "metadata": {},
   "outputs": [
    {
     "data": {
      "text/plain": [
       "array([1, 1, 1, ..., 1, 1, 1])"
      ]
     },
     "execution_count": 44,
     "metadata": {},
     "output_type": "execute_result"
    }
   ],
   "source": [
    "y_pred"
   ]
  },
  {
   "cell_type": "code",
   "execution_count": 45,
   "id": "44c2b64a",
   "metadata": {},
   "outputs": [],
   "source": [
    "from sklearn.metrics import accuracy_score,confusion_matrix"
   ]
  },
  {
   "cell_type": "code",
   "execution_count": 46,
   "id": "22a2f523",
   "metadata": {},
   "outputs": [
    {
     "data": {
      "text/plain": [
       "0.9998788759689923"
      ]
     },
     "execution_count": 46,
     "metadata": {},
     "output_type": "execute_result"
    }
   ],
   "source": [
    "accuracy_score(y_test,y_pred)"
   ]
  },
  {
   "cell_type": "code",
   "execution_count": 47,
   "id": "23481d45",
   "metadata": {},
   "outputs": [
    {
     "data": {
      "text/plain": [
       "array([[1026,    0],\n",
       "       [   1, 7229]], dtype=int64)"
      ]
     },
     "execution_count": 47,
     "metadata": {},
     "output_type": "execute_result"
    }
   ],
   "source": [
    "confusion_matrix(y_test,y_pred)"
   ]
  }
 ],
 "metadata": {
  "kernelspec": {
   "display_name": "Python 3",
   "language": "python",
   "name": "python3"
  },
  "language_info": {
   "codemirror_mode": {
    "name": "ipython",
    "version": 3
   },
   "file_extension": ".py",
   "mimetype": "text/x-python",
   "name": "python",
   "nbconvert_exporter": "python",
   "pygments_lexer": "ipython3",
   "version": "3.8.8"
  }
 },
 "nbformat": 4,
 "nbformat_minor": 5
}
